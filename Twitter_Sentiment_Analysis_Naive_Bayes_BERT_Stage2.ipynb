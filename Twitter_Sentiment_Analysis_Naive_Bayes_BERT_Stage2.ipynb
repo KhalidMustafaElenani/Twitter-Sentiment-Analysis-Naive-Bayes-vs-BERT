{
  "cells": [
    {
      "cell_type": "markdown",
      "source": [
        "## 1. Introduction"
      ],
      "metadata": {
        "id": "_ZH_BRpDr-_c"
      }
    },
    {
      "cell_type": "markdown",
      "source": [
        "Welcome to Stage 2 of the Twitter Sentiment Analysis project. Building upon the foundational work laid out in Stage 1, this segment delves deeper into the practical application of sentiment analysis, employing two powerful and competing models: Naive Bayes and BERT (Bidirectional Encoder Representations from Transformers). In this stage, we aim to rigorously compare and analyze the performance, nuances, and outcomes of using these models on the preprocessed Twitter data set."
      ],
      "metadata": {
        "id": "aqfhhW8zvWoT"
      }
    },
    {
      "cell_type": "markdown",
      "source": [
        "### 1.1 Recap of Stage 1"
      ],
      "metadata": {
        "id": "IkUEko-fvbVY"
      }
    },
    {
      "cell_type": "markdown",
      "source": [
        "In Stage 1, titled \"Twitter Sentiment Analysis Naive Bayes BERT Stage 1,\" we focused on setting up the necessary environment, retrieving and preprocessing the Twitter data, conducting exploratory data analysis, and preparing the text data for modeling. We ensured that the data was clean, structured, and ready for advanced analysis. The insights and processed data from Stage 1 form the bedrock upon which we build our comparative analysis in this stage.\n"
      ],
      "metadata": {
        "id": "CvafmBrWvhnh"
      }
    },
    {
      "cell_type": "markdown",
      "source": [
        "### 1.2 Objectives of Stage 2"
      ],
      "metadata": {
        "id": "boNNfvQ5vmb2"
      }
    },
    {
      "cell_type": "markdown",
      "source": [
        "\n",
        "* **Implementing Models:** Implementing BERT and Naive Bayes models to perform sentiment analysis on the Twitter data.\n",
        "* **Performance Comparison:** Comparing the accuracy, efficiency, and other relevant metrics between the models to understand their strengths and weaknesses in the context of sentiment analysis.\n",
        "* **Insightful Analysis:** Drawing insights from the models' predictions to understand sentiment trends, patterns, and anomalies within the Twitter data.\n",
        "* **Optimization and Tuning:** Fine-tuning the models and optimizing parameters to achieve the best performance."
      ],
      "metadata": {
        "id": "Zocho3L4r8I5"
      }
    },
    {
      "cell_type": "markdown",
      "source": [
        "## 2. Environment Setup\n"
      ],
      "metadata": {
        "id": "AvE4wRQyxnIx"
      }
    },
    {
      "cell_type": "markdown",
      "source": [
        "### 2.1 Import Libraries"
      ],
      "metadata": {
        "id": "SQG_do7vxqYS"
      }
    },
    {
      "cell_type": "code",
      "execution_count": 1,
      "metadata": {
        "id": "xu0Wiyua5kiT"
      },
      "outputs": [],
      "source": [
        "import numpy as np\n",
        "import pandas as pd\n",
        "import seaborn as sns\n",
        "import matplotlib.pyplot as plt\n",
        "\n",
        "import tensorflow as tf\n",
        "from tensorflow import keras\n",
        "\n",
        "from transformers import BertTokenizerFast\n",
        "from transformers import TFBertModel\n",
        "\n",
        "from sklearn import preprocessing\n",
        "from sklearn.naive_bayes import MultinomialNB\n",
        "from sklearn.model_selection import train_test_split\n",
        "from sklearn.metrics import accuracy_score, f1_score\n",
        "from sklearn.feature_extraction.text import CountVectorizer\n",
        "from sklearn.feature_extraction.text import TfidfTransformer\n",
        "from sklearn.metrics import classification_report, confusion_matrix"
      ]
    },
    {
      "cell_type": "markdown",
      "source": [
        "### 2.2 Mount Google Drive"
      ],
      "metadata": {
        "id": "4cwrAz9nxtVC"
      }
    },
    {
      "cell_type": "code",
      "execution_count": 2,
      "metadata": {
        "colab": {
          "base_uri": "https://localhost:8080/"
        },
        "id": "KfbyvT58yEhn",
        "outputId": "7d91bc65-94ba-44e5-8c49-4c3702634080"
      },
      "outputs": [
        {
          "output_type": "stream",
          "name": "stdout",
          "text": [
            "Mounted at /content/drive\n"
          ]
        }
      ],
      "source": [
        "from google.colab import drive\n",
        "drive.mount(\"/content/drive\", force_remount=True)"
      ]
    },
    {
      "cell_type": "markdown",
      "source": [
        "### 2.4 Utility Functions - Custom Classification Report"
      ],
      "metadata": {
        "id": "RkCF7nv89bUX"
      }
    },
    {
      "cell_type": "code",
      "source": [
        "# Labels for matrix axes\n",
        "labels = ['Negative', 'Neutral', 'Positive']\n",
        "\n",
        "def conf_matrix(y, y_pred, title):\n",
        "    # Initialize plotting space\n",
        "    fig, ax = plt.subplots(figsize=(6, 3))\n",
        "\n",
        "    # Generate and visualize confusion matrix\n",
        "    sns.heatmap(confusion_matrix(y, y_pred), annot=True, cmap=\"Blues\", fmt='g', cbar=False, annot_kws={\"size\":12})\n",
        "\n",
        "    # Configure aesthetics and layout\n",
        "    plt.title(title, fontsize=15)\n",
        "    ax.set_xticklabels(labels, fontsize=10)\n",
        "    ax.set_yticklabels(labels, fontsize=10)\n",
        "    ax.set_ylabel('Actual', fontsize=12)\n",
        "    ax.set_xlabel('Predicted', fontsize=12)\n",
        "    plt.tight_layout()\n",
        "    plt.show()"
      ],
      "metadata": {
        "id": "HC4luZF83Dw5"
      },
      "execution_count": 3,
      "outputs": []
    },
    {
      "cell_type": "code",
      "source": [
        "def custom_report(y_true, y_pred, class_names):\n",
        "    # Generate the classification report with output_dict=True to get it as a dictionary\n",
        "    report_dict = classification_report(y_true, y_pred, target_names=class_names, output_dict=True)\n",
        "\n",
        "    # Calculate the accuracy\n",
        "    accuracy = accuracy_score(y_true, y_pred)\n",
        "\n",
        "    # Initialize an empty string to store your custom report\n",
        "    custom_report_str = \"              precision    recall  f1-score   support\\n\\n\"\n",
        "\n",
        "    # Iterate through each item in the report and format it\n",
        "    for label, metrics in report_dict.items():\n",
        "        if label in class_names:  # Ensure to process only your specific class names\n",
        "            # Format each row\n",
        "            custom_report_str += f\"    {label:<9}    {metrics['precision']:.2f}      {metrics['recall']:.2f}      {metrics['f1-score']:.2f}      {metrics['support']:>5}\\n\"\n",
        "\n",
        "    # Append the accuracy to the report string\n",
        "    custom_report_str += f\"\\n    {'Accuracy':<9}    {accuracy:.2f}\\n\"\n",
        "\n",
        "    print(custom_report_str)"
      ],
      "metadata": {
        "id": "cFQidEkt9Y7Z"
      },
      "execution_count": 4,
      "outputs": []
    },
    {
      "cell_type": "markdown",
      "source": [
        "## 3. Data Loading and Preprocessing Section\n"
      ],
      "metadata": {
        "id": "j2TAlWVTx1v1"
      }
    },
    {
      "cell_type": "markdown",
      "source": [
        "### 3.1 Loading the cleaned dataset\n"
      ],
      "metadata": {
        "id": "52TU-y3UyEcG"
      }
    },
    {
      "cell_type": "code",
      "source": [
        "# Load the cleaned training data\n",
        "train_os = pd.read_csv('/content/drive/My Drive/Cleaned_Training_Data.csv')\n",
        "\n",
        "# Load the cleaned test data\n",
        "df_test = pd.read_csv('/content/drive/My Drive/Cleaned_Test_Data.csv')"
      ],
      "metadata": {
        "id": "i4Ez9p3txzGT"
      },
      "execution_count": 5,
      "outputs": []
    },
    {
      "cell_type": "markdown",
      "source": [
        "### 3.2 Splitting the dataset"
      ],
      "metadata": {
        "id": "Efe3trOdy0ih"
      }
    },
    {
      "cell_type": "code",
      "execution_count": 6,
      "metadata": {
        "id": "YVIcz4uiZOMh"
      },
      "outputs": [],
      "source": [
        "# Define data and labels\n",
        "X = train_os['text_clean'].values\n",
        "y = train_os['Sentiment'].values\n",
        "\n",
        "X_test = df_test['text_clean'].values\n",
        "y_test = df_test['Sentiment'].values\n",
        "\n",
        "# Setting random seed for reproducibility\n",
        "seed = 42\n",
        "\n",
        "# Splitting the dataset into training and validation sets\n",
        "X_train, X_valid, y_train, y_valid = train_test_split(X, y, test_size=0.1, stratify=y, random_state=seed)"
      ]
    },
    {
      "cell_type": "markdown",
      "source": [
        "*You might wonder why I used seed = 42, simply to ensure consistent, reproducible results in random processes by the way number 42 is an arbitrary yet popular choice, often used for its cultural reference.*"
      ],
      "metadata": {
        "id": "cNnCdEZYri48"
      }
    },
    {
      "cell_type": "code",
      "execution_count": 7,
      "metadata": {
        "colab": {
          "base_uri": "https://localhost:8080/"
        },
        "id": "LtsF0DuDZOMi",
        "outputId": "d8faaa4b-c75c-4846-a211-e4812a304c53"
      },
      "outputs": [
        {
          "output_type": "stream",
          "name": "stdout",
          "text": [
            "Training data ---> 48600\n",
            "Validation data -> 5400\n",
            "Testing data ----> 3792\n"
          ]
        }
      ],
      "source": [
        "print(f\"Training data ---> {X_train.shape[0]}\\nValidation data -> {X_valid.shape[0]}\\nTesting data ----> {X_test.shape[0]}\" )"
      ]
    },
    {
      "cell_type": "markdown",
      "source": [
        "*The distribution of the data is approximately 90% for training data and 10% for validation data.*"
      ],
      "metadata": {
        "id": "cCzqbYfat2I1"
      }
    },
    {
      "cell_type": "markdown",
      "source": [
        "## 4. Machine Learning - Naive Bayes"
      ],
      "metadata": {
        "id": "O7od89ZHzM7j"
      }
    },
    {
      "cell_type": "markdown",
      "source": [
        "### 4.1 Preparing Target Variables - One-Hot Encoding"
      ],
      "metadata": {
        "id": "G9Ib6COLvX-Z"
      }
    },
    {
      "cell_type": "markdown",
      "source": [
        "*You might notice we're working with three labels: Negative, Neutral, and Positive. Since this isn't a binary classification, we needed a suitable method. One hot encoding is the good choice for this multi-class categorization.*"
      ],
      "metadata": {
        "id": "g4aYoBm_wOfh"
      }
    },
    {
      "cell_type": "code",
      "execution_count": 8,
      "metadata": {
        "id": "X0bQW9SyZOMh"
      },
      "outputs": [],
      "source": [
        "# Label encoding for the target variable\n",
        "y_train_le = y_train.copy()\n",
        "y_valid_le = y_valid.copy()\n",
        "y_test_le = y_test.copy()\n",
        "\n",
        "# One-Hot Encoding for categorical variable transformation\n",
        "ohe = preprocessing.OneHotEncoder()\n",
        "y_train = ohe.fit_transform(np.array(y_train).reshape(-1, 1)).toarray()\n",
        "y_valid = ohe.fit_transform(np.array(y_valid).reshape(-1, 1)).toarray()\n",
        "y_test = ohe.fit_transform(np.array(y_test).reshape(-1, 1)).toarray()"
      ]
    },
    {
      "cell_type": "markdown",
      "source": [
        "### 4.2 Preparing Text data - Count Vectorizer"
      ],
      "metadata": {
        "id": "EFrYQDI-0kAW"
      }
    },
    {
      "cell_type": "markdown",
      "source": [
        "*for representing data as a collection of individual words and their respective counts within a document*"
      ],
      "metadata": {
        "id": "wh1Fv4ojyO_t"
      }
    },
    {
      "cell_type": "code",
      "execution_count": 9,
      "metadata": {
        "id": "90Nx0p-pZOMi"
      },
      "outputs": [],
      "source": [
        "# Initialize CountVectorizer\n",
        "clf = CountVectorizer()\n",
        "\n",
        "# Fit and transform training data\n",
        "X_train_cv = clf.fit_transform(X_train)\n",
        "X_test_cv = clf.transform(X_test)"
      ]
    },
    {
      "cell_type": "markdown",
      "source": [
        "### 4.3 Feature Extraction - TF-IDF"
      ],
      "metadata": {
        "id": "jUtjnlbI0xKf"
      }
    },
    {
      "cell_type": "markdown",
      "source": [
        "*Term Frequency Inverse Document Frequency Algorithm*"
      ],
      "metadata": {
        "id": "9fVNfb_ky_x5"
      }
    },
    {
      "cell_type": "code",
      "execution_count": 10,
      "metadata": {
        "id": "v3WsVdT8ZOMi"
      },
      "outputs": [],
      "source": [
        "# Initialize and fit TfidfTransformer\n",
        "tf_transformer = TfidfTransformer(use_idf=True).fit(X_train_cv)\n",
        "\n",
        "# Transform training and test data\n",
        "X_train_tf = tf_transformer.transform(X_train_cv)\n",
        "X_test_tf = tf_transformer.transform(X_test_cv)"
      ]
    },
    {
      "cell_type": "markdown",
      "source": [
        "### 4.4 Naive Bayes Classification and Evaluation\n"
      ],
      "metadata": {
        "id": "fRTjgSKK1O8D"
      }
    },
    {
      "cell_type": "markdown",
      "source": [
        "#### 4.4.1 Naive Bayes Training and Tesing"
      ],
      "metadata": {
        "id": "MO8ZiCKgC01-"
      }
    },
    {
      "cell_type": "code",
      "execution_count": 11,
      "metadata": {
        "id": "flUYLoYjZOMj"
      },
      "outputs": [],
      "source": [
        "# Initialize and fit the classifier\n",
        "nb_clf = MultinomialNB()\n",
        "nb_clf.fit(X_train_tf, y_train_le)\n",
        "\n",
        "# Predict on test data\n",
        "nb_pred = nb_clf.predict(X_test_tf)"
      ]
    },
    {
      "cell_type": "markdown",
      "source": [
        "#### 4.4.2 Naive Bayes Result"
      ],
      "metadata": {
        "id": "_i1jtks7CsEX"
      }
    },
    {
      "cell_type": "code",
      "source": [
        "# Display confusion matrix for Naive Bayes prediction\n",
        "conf_matrix(y_test_le, nb_pred, 'Naive Bayes Confusion Matrix')"
      ],
      "metadata": {
        "colab": {
          "base_uri": "https://localhost:8080/",
          "height": 306
        },
        "id": "sKmPHbYXDCYZ",
        "outputId": "b1745a16-993f-4e49-d2c1-d1bbd84a8801"
      },
      "execution_count": 12,
      "outputs": [
        {
          "output_type": "display_data",
          "data": {
            "text/plain": [
              "<Figure size 600x300 with 1 Axes>"
            ],
            "image/png": "[encoded data removed]"
          },
          "metadata": {}
        }
      ]
    },
    {
      "cell_type": "code",
      "source": [
        "# Display classification report for Naive Bayes prediction\n",
        "print('\\t<Classification Report for Naive Bayes>\\n')\n",
        "custom_report(y_test_le, nb_pred, ['Negative', 'Neutral', 'Positive'])"
      ],
      "metadata": {
        "colab": {
          "base_uri": "https://localhost:8080/"
        },
        "id": "Lco1gebfBT5-",
        "outputId": "5c3d9edf-7c3b-4625-dd2f-1fc36eaf4590"
      },
      "execution_count": 13,
      "outputs": [
        {
          "output_type": "stream",
          "name": "stdout",
          "text": [
            "\t<Classification Report for Naive Bayes>\n",
            "\n",
            "              precision    recall  f1-score   support\n",
            "\n",
            "    Negative     0.71      0.78      0.74       1632\n",
            "    Neutral      0.62      0.46      0.52        615\n",
            "    Positive     0.73      0.73      0.73       1545\n",
            "\n",
            "    Accuracy     0.71\n",
            "\n"
          ]
        }
      ]
    },
    {
      "cell_type": "markdown",
      "source": [
        "*Alright, you've achieved an accuracy of **0.71** using Naive Bayes as a first step. It's a good start! Now, let's record this and take a step forward*"
      ],
      "metadata": {
        "id": "F54AaH741J8F"
      }
    },
    {
      "cell_type": "markdown",
      "source": [
        "## 5. BERT - Bidirectional Encoder Representations from Transformers"
      ],
      "metadata": {
        "id": "d9UqVVMY2HES"
      }
    },
    {
      "cell_type": "markdown",
      "source": [
        "### 5.1 BERT Tokenization and Model Preparation\n"
      ],
      "metadata": {
        "id": "Uc6MNZpa1l0H"
      }
    },
    {
      "cell_type": "code",
      "execution_count": 14,
      "metadata": {
        "id": "IxNM_6P60rTJ",
        "colab": {
          "base_uri": "https://localhost:8080/",
          "height": 145,
          "referenced_widgets": [
            "1a6e1f9e22e74a3cbc9cae63dcc325d0",
            "d2ec603524264dab9a04cb60bb001bfd",
            "59bd3f64dc4e457890c1315f7f8e3a3a",
            "49402aa3dde4498b8c7b688a0ec8774a",
            "574dc80466974c9ebd400a2e77f0c7fb",
            "45382f167b1d461aaeec985c7fafa75b",
            "29b4751139b645c29e1736a353c9ed7d",
            "d8d6aaf0099543348115c69a013cf37d",
            "3d9035a134c3445d848ab6b2a66cf9b7",
            "8a5d0e709e504fefbc979c02198c1241",
            "ad25cb03bace46f2a2f1b831d21a1c73",
            "6c1665de030c456eb6b0fee47b890332",
            "f248eafedf2047778e48cfbf331f5add",
            "0ff21065757f49c7b81f287cc8c31530",
            "dcc2b535fd334fe6b2ac236af31f31c4",
            "88c49e575f384090aeab27dc45ac2d1f",
            "005d94ac89e84bfdb6592dcc9bda2f4a",
            "57049b63e5304659b28ff904683ca249",
            "3aa4b0ca4dff4fb89e8c5f7245e5136e",
            "afdbcc6b84f140fab81e70f51070d034",
            "b58e3824dc714be791b552483ba02067",
            "d2b0fa30db3d401fb38c8a16d5ed905d",
            "824967d512d742f386ef4425868cfc6e",
            "c7623e7996124cfd9c320f918fe1e0d6",
            "6b65c80a37174e1491dd538a41a0bd61",
            "6e36e319908a4268a7a7380641ef862f",
            "83b537033a9b4912842fac179ac8ace8",
            "40bd547d40fc4ae79c822bcd2c1a3c1b",
            "5143d8ce5ba54ef29cbe564abb517a61",
            "9e15f7a1618e4065be65afc2353a0803",
            "6d7be69fbedf41139d1cbdde5b8addf7",
            "87cbdfec33574b99a64664392bdcb590",
            "e975dbe9d7e24028813c8eefe57d7f78",
            "5c0fe0ec592744f5b7f72a6fdaa3a88f",
            "17cea6a54b7a4c1e9f9a8e523fa2afaa",
            "0888d635c1b64e3fb03cfdf2e04086c8",
            "88c980ef17dd4c2882a6f3b0a7448f1e",
            "c1bf901c752b485f8a1aafd83dd3d527",
            "437810ab6f7c4334b72fcaaec6b3d2ad",
            "d4fc33935aed47dbb5a96ddb7ea2aaaf",
            "c827aff1eace43ee8bb69ee111e60882",
            "e14af0db9bb24aa2a0f611d972f0ead4",
            "f290cfb206624db684c94b4d6214fb52",
            "fb438e90bdc94da2bc41a3cba44bf4d5"
          ]
        },
        "outputId": "2b93a055-7bf3-41f1-fdad-29a255383484"
      },
      "outputs": [
        {
          "output_type": "display_data",
          "data": {
            "text/plain": [
              "tokenizer_config.json:   0%|          | 0.00/28.0 [00:00<?, ?B/s]"
            ],
            "application/vnd.jupyter.widget-view+json": {
              "version_major": 2,
              "version_minor": 0,
              "model_id": "1a6e1f9e22e74a3cbc9cae63dcc325d0"
            }
          },
          "metadata": {}
        },
        {
          "output_type": "display_data",
          "data": {
            "text/plain": [
              "vocab.txt:   0%|          | 0.00/232k [00:00<?, ?B/s]"
            ],
            "application/vnd.jupyter.widget-view+json": {
              "version_major": 2,
              "version_minor": 0,
              "model_id": "6c1665de030c456eb6b0fee47b890332"
            }
          },
          "metadata": {}
        },
        {
          "output_type": "display_data",
          "data": {
            "text/plain": [
              "tokenizer.json:   0%|          | 0.00/466k [00:00<?, ?B/s]"
            ],
            "application/vnd.jupyter.widget-view+json": {
              "version_major": 2,
              "version_minor": 0,
              "model_id": "824967d512d742f386ef4425868cfc6e"
            }
          },
          "metadata": {}
        },
        {
          "output_type": "display_data",
          "data": {
            "text/plain": [
              "config.json:   0%|          | 0.00/570 [00:00<?, ?B/s]"
            ],
            "application/vnd.jupyter.widget-view+json": {
              "version_major": 2,
              "version_minor": 0,
              "model_id": "5c0fe0ec592744f5b7f72a6fdaa3a88f"
            }
          },
          "metadata": {}
        }
      ],
      "source": [
        "# Initialize tokenizer\n",
        "tokenizer = BertTokenizerFast.from_pretrained('bert-base-uncased')"
      ]
    },
    {
      "cell_type": "markdown",
      "source": [
        "*You might wonder why we need to tokenize the text again. The simple answer is to ensure that the input text is split into tokens that are recognizable by the BERT model.*"
      ],
      "metadata": {
        "id": "39P5W4dx9K51"
      }
    },
    {
      "cell_type": "markdown",
      "source": [
        "*BERT and similar transformer models require a specific format of input, with tokens that correspond to their pre-trained understanding of language. This step is crucial for the model to accurately interpret and process the text data.*"
      ],
      "metadata": {
        "id": "ESHWqUtZ9p4H"
      }
    },
    {
      "cell_type": "code",
      "execution_count": 15,
      "metadata": {
        "id": "BSSSQwD6ZOMk"
      },
      "outputs": [],
      "source": [
        "# Define max token length, 128 is the standard length\n",
        "MAX_LEN = 128\n",
        "\n",
        "# Tokenize function for datasets\n",
        "def tokenize(data, max_len=MAX_LEN):\n",
        "    input_ids = []\n",
        "    attention_masks = []\n",
        "    for i in range(len(data)):\n",
        "        encoded = tokenizer.encode_plus(\n",
        "            data[i],\n",
        "            add_special_tokens=True,\n",
        "            max_length=MAX_LEN,\n",
        "            padding='max_length',\n",
        "            return_attention_mask=True\n",
        "        )\n",
        "        input_ids.append(encoded['input_ids'])\n",
        "        attention_masks.append(encoded['attention_mask'])\n",
        "    return np.array(input_ids), np.array(attention_masks)\n",
        "\n",
        "# Tokenize training, validation, and test datasets\n",
        "train_input_ids, train_attention_masks = tokenize(X_train, MAX_LEN)\n",
        "val_input_ids, val_attention_masks = tokenize(X_valid, MAX_LEN)\n",
        "test_input_ids, test_attention_masks = tokenize(X_test, MAX_LEN)"
      ]
    },
    {
      "cell_type": "markdown",
      "source": [
        "### 5.2 Load and Apply BERT"
      ],
      "metadata": {
        "id": "N0YAtZ5j2QtT"
      }
    },
    {
      "cell_type": "markdown",
      "source": [
        "#### 5.2.1 Load the Pre-trained Model"
      ],
      "metadata": {
        "id": "Hdz3Zgo84pVc"
      }
    },
    {
      "cell_type": "code",
      "execution_count": 16,
      "metadata": {
        "id": "-K9eZI6EZOMk",
        "colab": {
          "base_uri": "https://localhost:8080/",
          "height": 156,
          "referenced_widgets": [
            "856cd7c7ab5f468cabfc80a5d3530592",
            "b768beb9bf774ee087ce74591120a2c9",
            "e26832c5122e4732bf4cb3b2c114a3fa",
            "1ed8bbfa6dd04d37b792b59b053a90de",
            "ee812f886f4d43f0b818d3112d7a4cf8",
            "66d6d5082fd54818afea3bb39ad22ddd",
            "4723eccf89d34ef0bbb9ab7f0904f441",
            "fc24d18be917475284eb27d250df0064",
            "25d03337a8ad4f61b503f4f73927a6e3",
            "734e1bf65d2d461294505c851d90d6f5",
            "c9cc2ebd5178407088c5474e6260a412"
          ]
        },
        "outputId": "69e646ef-b495-4d9c-c742-e52e2f5c679e"
      },
      "outputs": [
        {
          "output_type": "display_data",
          "data": {
            "text/plain": [
              "model.safetensors:   0%|          | 0.00/440M [00:00<?, ?B/s]"
            ],
            "application/vnd.jupyter.widget-view+json": {
              "version_major": 2,
              "version_minor": 0,
              "model_id": "856cd7c7ab5f468cabfc80a5d3530592"
            }
          },
          "metadata": {}
        },
        {
          "output_type": "stream",
          "name": "stderr",
          "text": [
            "Some weights of the PyTorch model were not used when initializing the TF 2.0 model TFBertModel: ['cls.predictions.transform.dense.weight', 'cls.seq_relationship.weight', 'cls.predictions.bias', 'cls.predictions.transform.LayerNorm.bias', 'cls.predictions.transform.dense.bias', 'cls.seq_relationship.bias', 'cls.predictions.transform.LayerNorm.weight']\n",
            "- This IS expected if you are initializing TFBertModel from a PyTorch model trained on another task or with another architecture (e.g. initializing a TFBertForSequenceClassification model from a BertForPreTraining model).\n",
            "- This IS NOT expected if you are initializing TFBertModel from a PyTorch model that you expect to be exactly identical (e.g. initializing a TFBertForSequenceClassification model from a BertForSequenceClassification model).\n",
            "All the weights of TFBertModel were initialized from the PyTorch model.\n",
            "If your task is similar to the task the model of the checkpoint was trained on, you can already use TFBertModel for predictions without further training.\n"
          ]
        }
      ],
      "source": [
        "# Load pre-trained BERT model\n",
        "bert_model = TFBertModel.from_pretrained('bert-base-uncased')"
      ]
    },
    {
      "cell_type": "markdown",
      "source": [
        "#### 5.2.2 Model Evaluation"
      ],
      "metadata": {
        "id": "iaJz9dcb4x_D"
      }
    },
    {
      "cell_type": "code",
      "execution_count": 17,
      "metadata": {
        "id": "qJAmpLmmZOMl",
        "colab": {
          "base_uri": "https://localhost:8080/"
        },
        "outputId": "802f63ad-f260-4ff8-b47e-74bbd934e18f"
      },
      "outputs": [
        {
          "output_type": "stream",
          "name": "stdout",
          "text": [
            "Model: \"model\"\n",
            "__________________________________________________________________________________________________\n",
            " Layer (type)                Output Shape                 Param #   Connected to                  \n",
            "==================================================================================================\n",
            " input_1 (InputLayer)        [(None, 128)]                0         []                            \n",
            "                                                                                                  \n",
            " input_2 (InputLayer)        [(None, 128)]                0         []                            \n",
            "                                                                                                  \n",
            " tf_bert_model (TFBertModel  TFBaseModelOutputWithPooli   1094822   ['input_1[0][0]',             \n",
            " )                           ngAndCrossAttentions(last_   40         'input_2[0][0]']             \n",
            "                             hidden_state=(None, 128, 7                                           \n",
            "                             68),                                                                 \n",
            "                              pooler_output=(None, 768)                                           \n",
            "                             , past_key_values=None, hi                                           \n",
            "                             dden_states=None, attentio                                           \n",
            "                             ns=None, cross_attentions=                                           \n",
            "                             None)                                                                \n",
            "                                                                                                  \n",
            " dense (Dense)               (None, 3)                    2307      ['tf_bert_model[0][1]']       \n",
            "                                                                                                  \n",
            "==================================================================================================\n",
            "Total params: 109484547 (417.65 MB)\n",
            "Trainable params: 109484547 (417.65 MB)\n",
            "Non-trainable params: 0 (0.00 Byte)\n",
            "__________________________________________________________________________________________________\n"
          ]
        }
      ],
      "source": [
        "# Function to create BERT model architecture\n",
        "def create_model(bert_model, max_len=MAX_LEN):\n",
        "    opt = tf.keras.optimizers.Adam(learning_rate=1e-5) # 1e-5 -> 0.00001.\n",
        "    loss = tf.keras.losses.CategoricalCrossentropy()\n",
        "    accuracy = tf.keras.metrics.CategoricalAccuracy()\n",
        "\n",
        "    # Defining model input layers\n",
        "    input_ids = tf.keras.Input(shape=(max_len,), dtype='int32')\n",
        "    attention_masks = tf.keras.Input(shape=(max_len,), dtype='int32')\n",
        "\n",
        "    # The [1] index is used to select the pooled output for classification tasks.\n",
        "    embeddings = bert_model([input_ids, attention_masks])[1]\n",
        "    output = tf.keras.layers.Dense(3, activation=\"softmax\")(embeddings)\n",
        "\n",
        "    # Define and compile the model\n",
        "    model = tf.keras.models.Model(inputs=[input_ids, attention_masks], outputs=output)\n",
        "    model.compile(optimizer=opt, loss=loss, metrics=[accuracy])\n",
        "\n",
        "    return model\n",
        "\n",
        "# Create and summarize the BERT model\n",
        "model = create_model(bert_model, MAX_LEN)\n",
        "model.summary()"
      ]
    },
    {
      "cell_type": "markdown",
      "source": [
        "### 5.3 Model Training and testing"
      ],
      "metadata": {
        "id": "wUXQhJNm46KQ"
      }
    },
    {
      "cell_type": "code",
      "execution_count": 18,
      "metadata": {
        "id": "Ccmto2-wZOMl",
        "colab": {
          "base_uri": "https://localhost:8080/"
        },
        "outputId": "5ee90b89-aa58-49be-86a9-42a4e25cf114"
      },
      "outputs": [
        {
          "output_type": "stream",
          "name": "stdout",
          "text": [
            "Epoch 1/3\n",
            "1519/1519 [==============================] - 1332s 847ms/step - loss: 0.5543 - categorical_accuracy: 0.7788 - val_loss: 0.3530 - val_categorical_accuracy: 0.8733\n",
            "Epoch 2/3\n",
            "1519/1519 [==============================] - 1254s 826ms/step - loss: 0.2905 - categorical_accuracy: 0.8975 - val_loss: 0.2527 - val_categorical_accuracy: 0.9157\n",
            "Epoch 3/3\n",
            "1519/1519 [==============================] - 1287s 847ms/step - loss: 0.1930 - categorical_accuracy: 0.9327 - val_loss: 0.2216 - val_categorical_accuracy: 0.9281\n"
          ]
        }
      ],
      "source": [
        "# Train the BERT model\n",
        "history_bert = model.fit(\n",
        "    [train_input_ids, train_attention_masks], y_train,\n",
        "    validation_data=([val_input_ids, val_attention_masks], y_valid),\n",
        "    epochs=3,\n",
        "    batch_size=32\n",
        ")"
      ]
    },
    {
      "cell_type": "code",
      "execution_count": 19,
      "metadata": {
        "id": "XvIWyjZFZOMl",
        "colab": {
          "base_uri": "https://localhost:8080/"
        },
        "outputId": "27f1b2dd-42bb-4e0d-9043-b3e9165c6706"
      },
      "outputs": [
        {
          "output_type": "stream",
          "name": "stdout",
          "text": [
            "119/119 [==============================] - 37s 283ms/step\n"
          ]
        }
      ],
      "source": [
        "# Predict using BERT model\n",
        "result_bert = model.predict([test_input_ids, test_attention_masks])\n",
        "\n",
        "# Create an array of zeros with the same shape\n",
        "y_pred_bert = np.zeros_like(result_bert)\n",
        "# Convert probabilities to one-hot encoded predictions using numpy advanced indexing.\n",
        "y_pred_bert[np.arange(len(y_pred_bert)), result_bert.argmax(1)] = 1"
      ]
    },
    {
      "cell_type": "markdown",
      "source": [
        "### 5.4 Bert Result"
      ],
      "metadata": {
        "id": "XacUMMwd5AxX"
      }
    },
    {
      "cell_type": "code",
      "execution_count": 20,
      "metadata": {
        "id": "uVkkNuvGZOMm",
        "colab": {
          "base_uri": "https://localhost:8080/",
          "height": 306
        },
        "outputId": "df3abaad-3ed4-4598-869d-77f74ccda211"
      },
      "outputs": [
        {
          "output_type": "display_data",
          "data": {
            "text/plain": [
              "<Figure size 600x300 with 1 Axes>"
            ],
            "image/png": "[encoded data removed]"
          },
          "metadata": {}
        }
      ],
      "source": [
        "# Display confusion matrix for BERT model predictions\n",
        "conf_matrix(y_test.argmax(1), y_pred_bert.argmax(1), 'BERT Confusion Matrix')"
      ]
    },
    {
      "cell_type": "code",
      "source": [
        "# Display classification report for BERT model predictions\n",
        "print('\\t<Classification Report for BERT>\\n')\n",
        "custom_report(y_test, y_pred_bert, ['Negative', 'Neutral', 'Positive'])"
      ],
      "metadata": {
        "id": "_ecodhFY9ExT",
        "colab": {
          "base_uri": "https://localhost:8080/"
        },
        "outputId": "1f0807d3-29d6-41cc-a627-bbade282c0a4"
      },
      "execution_count": 21,
      "outputs": [
        {
          "output_type": "stream",
          "name": "stdout",
          "text": [
            "\t<Classification Report for BERT>\n",
            "\n",
            "              precision    recall  f1-score   support\n",
            "\n",
            "    Negative     0.89      0.90      0.90       1632\n",
            "    Neutral      0.84      0.78      0.81        615\n",
            "    Positive     0.90      0.91      0.90       1545\n",
            "\n",
            "    Accuracy     0.89\n",
            "\n"
          ]
        }
      ]
    },
    {
      "cell_type": "markdown",
      "source": [
        "*Great progress!! Achieving an accuracy of **0.89** is a significant improvement and a commendable step forward from 0.70 with Naive Bayes.*"
      ],
      "metadata": {
        "id": "dp46iZN-5G84"
      }
    },
    {
      "cell_type": "markdown",
      "source": [
        "## 7. Naive Bayes Vs. BERT"
      ],
      "metadata": {
        "id": "XGBBOaLyOAN5"
      }
    },
    {
      "cell_type": "code",
      "source": [
        "# Create subplots\n",
        "fig, axes = plt.subplots(1, 2, figsize=(15, 5))\n",
        "\n",
        "# Confusion Matrix for Naive Bayes\n",
        "conf_matrix_nb = confusion_matrix(y_test_le, nb_pred)\n",
        "sns.heatmap(conf_matrix_nb, annot=True, cmap=\"Blues\", fmt='g', cbar=False, ax=axes[0], annot_kws={\"size\": 12})\n",
        "axes[0].set_title('Naive Bayes Confusion Matrix', fontsize=15)\n",
        "axes[0].set_xticklabels(labels, fontsize=10)\n",
        "axes[0].set_yticklabels(labels, fontsize=10)\n",
        "axes[0].set_ylabel('Actual', fontsize=13)\n",
        "axes[0].set_xlabel('Predicted', fontsize=13)\n",
        "\n",
        "# Confusion Matrix for BERT\n",
        "conf_matrix_bert = confusion_matrix(y_test.argmax(1), y_pred_bert.argmax(1))\n",
        "sns.heatmap(conf_matrix_bert, annot=True, cmap=\"Blues\", fmt='g', cbar=False, ax=axes[1], annot_kws={\"size\": 12})\n",
        "axes[1].set_title('BERT Confusion Matrix', fontsize=15)\n",
        "axes[1].set_xticklabels(labels, fontsize=10)\n",
        "axes[1].set_yticklabels(labels, fontsize=10)\n",
        "axes[1].set_ylabel('Actual', fontsize=13)\n",
        "axes[1].set_xlabel('Predicted', fontsize=13)\n",
        "\n",
        "# Adjust layout\n",
        "plt.tight_layout()\n",
        "plt.show()"
      ],
      "metadata": {
        "id": "YfPkEjWIOQJ2",
        "colab": {
          "base_uri": "https://localhost:8080/",
          "height": 436
        },
        "outputId": "06757a8f-5ee9-4a3c-f536-4f47ec344f9e"
      },
      "execution_count": 22,
      "outputs": [
        {
          "output_type": "display_data",
          "data": {
            "text/plain": [
              "<Figure size 1500x500 with 2 Axes>"
            ],
            "image/png": "[encoded data removed]"
          },
          "metadata": {}
        }
      ]
    }
  ],
  "metadata": {
    "accelerator": "GPU",
    "colab": {
      "provenance": []
    },
    "kernelspec": {
      "display_name": "Python 3",
      "name": "python3"
    },
    "language_info": {
      "codemirror_mode": {
        "name": "ipython",
        "version": 3
      },
      "file_extension": ".py",
      "mimetype": "text/x-python",
      "name": "python",
      "nbconvert_exporter": "python",
      "pygments_lexer": "ipython3",
      "version": "3.7.12"
    },
    "widgets": {
      "application/vnd.jupyter.widget-state+json": {
        "1a6e1f9e22e74a3cbc9cae63dcc325d0": {
          "model_module": "@jupyter-widgets/controls",
          "model_name": "HBoxModel",
          "model_module_version": "1.5.0",
          "state": {
            "_dom_classes": [],
            "_model_module": "@jupyter-widgets/controls",
            "_model_module_version": "1.5.0",
            "_model_name": "HBoxModel",
            "_view_count": null,
            "_view_module": "@jupyter-widgets/controls",
            "_view_module_version": "1.5.0",
            "_view_name": "HBoxView",
            "box_style": "",
            "children": [
              "IPY_MODEL_d2ec603524264dab9a04cb60bb001bfd",
              "IPY_MODEL_59bd3f64dc4e457890c1315f7f8e3a3a",
              "IPY_MODEL_49402aa3dde4498b8c7b688a0ec8774a"
            ],
            "layout": "IPY_MODEL_574dc80466974c9ebd400a2e77f0c7fb"
          }
        },
        "d2ec603524264dab9a04cb60bb001bfd": {
          "model_module": "@jupyter-widgets/controls",
          "model_name": "HTMLModel",
          "model_module_version": "1.5.0",
          "state": {
            "_dom_classes": [],
            "_model_module": "@jupyter-widgets/controls",
            "_model_module_version": "1.5.0",
            "_model_name": "HTMLModel",
            "_view_count": null,
            "_view_module": "@jupyter-widgets/controls",
            "_view_module_version": "1.5.0",
            "_view_name": "HTMLView",
            "description": "",
            "description_tooltip": null,
            "layout": "IPY_MODEL_45382f167b1d461aaeec985c7fafa75b",
            "placeholder": "​",
            "style": "IPY_MODEL_29b4751139b645c29e1736a353c9ed7d",
            "value": "tokenizer_config.json: 100%"
          }
        },
        "59bd3f64dc4e457890c1315f7f8e3a3a": {
          "model_module": "@jupyter-widgets/controls",
          "model_name": "FloatProgressModel",
          "model_module_version": "1.5.0",
          "state": {
            "_dom_classes": [],
            "_model_module": "@jupyter-widgets/controls",
            "_model_module_version": "1.5.0",
            "_model_name": "FloatProgressModel",
            "_view_count": null,
            "_view_module": "@jupyter-widgets/controls",
            "_view_module_version": "1.5.0",
            "_view_name": "ProgressView",
            "bar_style": "success",
            "description": "",
            "description_tooltip": null,
            "layout": "IPY_MODEL_d8d6aaf0099543348115c69a013cf37d",
            "max": 28,
            "min": 0,
            "orientation": "horizontal",
            "style": "IPY_MODEL_3d9035a134c3445d848ab6b2a66cf9b7",
            "value": 28
          }
        },
        "49402aa3dde4498b8c7b688a0ec8774a": {
          "model_module": "@jupyter-widgets/controls",
          "model_name": "HTMLModel",
          "model_module_version": "1.5.0",
          "state": {
            "_dom_classes": [],
            "_model_module": "@jupyter-widgets/controls",
            "_model_module_version": "1.5.0",
            "_model_name": "HTMLModel",
            "_view_count": null,
            "_view_module": "@jupyter-widgets/controls",
            "_view_module_version": "1.5.0",
            "_view_name": "HTMLView",
            "description": "",
            "description_tooltip": null,
            "layout": "IPY_MODEL_8a5d0e709e504fefbc979c02198c1241",
            "placeholder": "​",
            "style": "IPY_MODEL_ad25cb03bace46f2a2f1b831d21a1c73",
            "value": " 28.0/28.0 [00:00&lt;00:00, 1.76kB/s]"
          }
        },
        "574dc80466974c9ebd400a2e77f0c7fb": {
          "model_module": "@jupyter-widgets/base",
          "model_name": "LayoutModel",
          "model_module_version": "1.2.0",
          "state": {
            "_model_module": "@jupyter-widgets/base",
            "_model_module_version": "1.2.0",
            "_model_name": "LayoutModel",
            "_view_count": null,
            "_view_module": "@jupyter-widgets/base",
            "_view_module_version": "1.2.0",
            "_view_name": "LayoutView",
            "align_content": null,
            "align_items": null,
            "align_self": null,
            "border": null,
            "bottom": null,
            "display": null,
            "flex": null,
            "flex_flow": null,
            "grid_area": null,
            "grid_auto_columns": null,
            "grid_auto_flow": null,
            "grid_auto_rows": null,
            "grid_column": null,
            "grid_gap": null,
            "grid_row": null,
            "grid_template_areas": null,
            "grid_template_columns": null,
            "grid_template_rows": null,
            "height": null,
            "justify_content": null,
            "justify_items": null,
            "left": null,
            "margin": null,
            "max_height": null,
            "max_width": null,
            "min_height": null,
            "min_width": null,
            "object_fit": null,
            "object_position": null,
            "order": null,
            "overflow": null,
            "overflow_x": null,
            "overflow_y": null,
            "padding": null,
            "right": null,
            "top": null,
            "visibility": null,
            "width": null
          }
        },
        "45382f167b1d461aaeec985c7fafa75b": {
          "model_module": "@jupyter-widgets/base",
          "model_name": "LayoutModel",
          "model_module_version": "1.2.0",
          "state": {
            "_model_module": "@jupyter-widgets/base",
            "_model_module_version": "1.2.0",
            "_model_name": "LayoutModel",
            "_view_count": null,
            "_view_module": "@jupyter-widgets/base",
            "_view_module_version": "1.2.0",
            "_view_name": "LayoutView",
            "align_content": null,
            "align_items": null,
            "align_self": null,
            "border": null,
            "bottom": null,
            "display": null,
            "flex": null,
            "flex_flow": null,
            "grid_area": null,
            "grid_auto_columns": null,
            "grid_auto_flow": null,
            "grid_auto_rows": null,
            "grid_column": null,
            "grid_gap": null,
            "grid_row": null,
            "grid_template_areas": null,
            "grid_template_columns": null,
            "grid_template_rows": null,
            "height": null,
            "justify_content": null,
            "justify_items": null,
            "left": null,
            "margin": null,
            "max_height": null,
            "max_width": null,
            "min_height": null,
            "min_width": null,
            "object_fit": null,
            "object_position": null,
            "order": null,
            "overflow": null,
            "overflow_x": null,
            "overflow_y": null,
            "padding": null,
            "right": null,
            "top": null,
            "visibility": null,
            "width": null
          }
        },
        "29b4751139b645c29e1736a353c9ed7d": {
          "model_module": "@jupyter-widgets/controls",
          "model_name": "DescriptionStyleModel",
          "model_module_version": "1.5.0",
          "state": {
            "_model_module": "@jupyter-widgets/controls",
            "_model_module_version": "1.5.0",
            "_model_name": "DescriptionStyleModel",
            "_view_count": null,
            "_view_module": "@jupyter-widgets/base",
            "_view_module_version": "1.2.0",
            "_view_name": "StyleView",
            "description_width": ""
          }
        },
        "d8d6aaf0099543348115c69a013cf37d": {
          "model_module": "@jupyter-widgets/base",
          "model_name": "LayoutModel",
          "model_module_version": "1.2.0",
          "state": {
            "_model_module": "@jupyter-widgets/base",
            "_model_module_version": "1.2.0",
            "_model_name": "LayoutModel",
            "_view_count": null,
            "_view_module": "@jupyter-widgets/base",
            "_view_module_version": "1.2.0",
            "_view_name": "LayoutView",
            "align_content": null,
            "align_items": null,
            "align_self": null,
            "border": null,
            "bottom": null,
            "display": null,
            "flex": null,
            "flex_flow": null,
            "grid_area": null,
            "grid_auto_columns": null,
            "grid_auto_flow": null,
            "grid_auto_rows": null,
            "grid_column": null,
            "grid_gap": null,
            "grid_row": null,
            "grid_template_areas": null,
            "grid_template_columns": null,
            "grid_template_rows": null,
            "height": null,
            "justify_content": null,
            "justify_items": null,
            "left": null,
            "margin": null,
            "max_height": null,
            "max_width": null,
            "min_height": null,
            "min_width": null,
            "object_fit": null,
            "object_position": null,
            "order": null,
            "overflow": null,
            "overflow_x": null,
            "overflow_y": null,
            "padding": null,
            "right": null,
            "top": null,
            "visibility": null,
            "width": null
          }
        },
        "3d9035a134c3445d848ab6b2a66cf9b7": {
          "model_module": "@jupyter-widgets/controls",
          "model_name": "ProgressStyleModel",
          "model_module_version": "1.5.0",
          "state": {
            "_model_module": "@jupyter-widgets/controls",
            "_model_module_version": "1.5.0",
            "_model_name": "ProgressStyleModel",
            "_view_count": null,
            "_view_module": "@jupyter-widgets/base",
            "_view_module_version": "1.2.0",
            "_view_name": "StyleView",
            "bar_color": null,
            "description_width": ""
          }
        },
        "8a5d0e709e504fefbc979c02198c1241": {
          "model_module": "@jupyter-widgets/base",
          "model_name": "LayoutModel",
          "model_module_version": "1.2.0",
          "state": {
            "_model_module": "@jupyter-widgets/base",
            "_model_module_version": "1.2.0",
            "_model_name": "LayoutModel",
            "_view_count": null,
            "_view_module": "@jupyter-widgets/base",
            "_view_module_version": "1.2.0",
            "_view_name": "LayoutView",
            "align_content": null,
            "align_items": null,
            "align_self": null,
            "border": null,
            "bottom": null,
            "display": null,
            "flex": null,
            "flex_flow": null,
            "grid_area": null,
            "grid_auto_columns": null,
            "grid_auto_flow": null,
            "grid_auto_rows": null,
            "grid_column": null,
            "grid_gap": null,
            "grid_row": null,
            "grid_template_areas": null,
            "grid_template_columns": null,
            "grid_template_rows": null,
            "height": null,
            "justify_content": null,
            "justify_items": null,
            "left": null,
            "margin": null,
            "max_height": null,
            "max_width": null,
            "min_height": null,
            "min_width": null,
            "object_fit": null,
            "object_position": null,
            "order": null,
            "overflow": null,
            "overflow_x": null,
            "overflow_y": null,
            "padding": null,
            "right": null,
            "top": null,
            "visibility": null,
            "width": null
          }
        },
        "ad25cb03bace46f2a2f1b831d21a1c73": {
          "model_module": "@jupyter-widgets/controls",
          "model_name": "DescriptionStyleModel",
          "model_module_version": "1.5.0",
          "state": {
            "_model_module": "@jupyter-widgets/controls",
            "_model_module_version": "1.5.0",
            "_model_name": "DescriptionStyleModel",
            "_view_count": null,
            "_view_module": "@jupyter-widgets/base",
            "_view_module_version": "1.2.0",
            "_view_name": "StyleView",
            "description_width": ""
          }
        },
        "6c1665de030c456eb6b0fee47b890332": {
          "model_module": "@jupyter-widgets/controls",
          "model_name": "HBoxModel",
          "model_module_version": "1.5.0",
          "state": {
            "_dom_classes": [],
            "_model_module": "@jupyter-widgets/controls",
            "_model_module_version": "1.5.0",
            "_model_name": "HBoxModel",
            "_view_count": null,
            "_view_module": "@jupyter-widgets/controls",
            "_view_module_version": "1.5.0",
            "_view_name": "HBoxView",
            "box_style": "",
            "children": [
              "IPY_MODEL_f248eafedf2047778e48cfbf331f5add",
              "IPY_MODEL_0ff21065757f49c7b81f287cc8c31530",
              "IPY_MODEL_dcc2b535fd334fe6b2ac236af31f31c4"
            ],
            "layout": "IPY_MODEL_88c49e575f384090aeab27dc45ac2d1f"
          }
        },
        "f248eafedf2047778e48cfbf331f5add": {
          "model_module": "@jupyter-widgets/controls",
          "model_name": "HTMLModel",
          "model_module_version": "1.5.0",
          "state": {
            "_dom_classes": [],
            "_model_module": "@jupyter-widgets/controls",
            "_model_module_version": "1.5.0",
            "_model_name": "HTMLModel",
            "_view_count": null,
            "_view_module": "@jupyter-widgets/controls",
            "_view_module_version": "1.5.0",
            "_view_name": "HTMLView",
            "description": "",
            "description_tooltip": null,
            "layout": "IPY_MODEL_005d94ac89e84bfdb6592dcc9bda2f4a",
            "placeholder": "​",
            "style": "IPY_MODEL_57049b63e5304659b28ff904683ca249",
            "value": "vocab.txt: 100%"
          }
        },
        "0ff21065757f49c7b81f287cc8c31530": {
          "model_module": "@jupyter-widgets/controls",
          "model_name": "FloatProgressModel",
          "model_module_version": "1.5.0",
          "state": {
            "_dom_classes": [],
            "_model_module": "@jupyter-widgets/controls",
            "_model_module_version": "1.5.0",
            "_model_name": "FloatProgressModel",
            "_view_count": null,
            "_view_module": "@jupyter-widgets/controls",
            "_view_module_version": "1.5.0",
            "_view_name": "ProgressView",
            "bar_style": "success",
            "description": "",
            "description_tooltip": null,
            "layout": "IPY_MODEL_3aa4b0ca4dff4fb89e8c5f7245e5136e",
            "max": 231508,
            "min": 0,
            "orientation": "horizontal",
            "style": "IPY_MODEL_afdbcc6b84f140fab81e70f51070d034",
            "value": 231508
          }
        },
        "dcc2b535fd334fe6b2ac236af31f31c4": {
          "model_module": "@jupyter-widgets/controls",
          "model_name": "HTMLModel",
          "model_module_version": "1.5.0",
          "state": {
            "_dom_classes": [],
            "_model_module": "@jupyter-widgets/controls",
            "_model_module_version": "1.5.0",
            "_model_name": "HTMLModel",
            "_view_count": null,
            "_view_module": "@jupyter-widgets/controls",
            "_view_module_version": "1.5.0",
            "_view_name": "HTMLView",
            "description": "",
            "description_tooltip": null,
            "layout": "IPY_MODEL_b58e3824dc714be791b552483ba02067",
            "placeholder": "​",
            "style": "IPY_MODEL_d2b0fa30db3d401fb38c8a16d5ed905d",
            "value": " 232k/232k [00:00&lt;00:00, 1.41MB/s]"
          }
        },
        "88c49e575f384090aeab27dc45ac2d1f": {
          "model_module": "@jupyter-widgets/base",
          "model_name": "LayoutModel",
          "model_module_version": "1.2.0",
          "state": {
            "_model_module": "@jupyter-widgets/base",
            "_model_module_version": "1.2.0",
            "_model_name": "LayoutModel",
            "_view_count": null,
            "_view_module": "@jupyter-widgets/base",
            "_view_module_version": "1.2.0",
            "_view_name": "LayoutView",
            "align_content": null,
            "align_items": null,
            "align_self": null,
            "border": null,
            "bottom": null,
            "display": null,
            "flex": null,
            "flex_flow": null,
            "grid_area": null,
            "grid_auto_columns": null,
            "grid_auto_flow": null,
            "grid_auto_rows": null,
            "grid_column": null,
            "grid_gap": null,
            "grid_row": null,
            "grid_template_areas": null,
            "grid_template_columns": null,
            "grid_template_rows": null,
            "height": null,
            "justify_content": null,
            "justify_items": null,
            "left": null,
            "margin": null,
            "max_height": null,
            "max_width": null,
            "min_height": null,
            "min_width": null,
            "object_fit": null,
            "object_position": null,
            "order": null,
            "overflow": null,
            "overflow_x": null,
            "overflow_y": null,
            "padding": null,
            "right": null,
            "top": null,
            "visibility": null,
            "width": null
          }
        },
        "005d94ac89e84bfdb6592dcc9bda2f4a": {
          "model_module": "@jupyter-widgets/base",
          "model_name": "LayoutModel",
          "model_module_version": "1.2.0",
          "state": {
            "_model_module": "@jupyter-widgets/base",
            "_model_module_version": "1.2.0",
            "_model_name": "LayoutModel",
            "_view_count": null,
            "_view_module": "@jupyter-widgets/base",
            "_view_module_version": "1.2.0",
            "_view_name": "LayoutView",
            "align_content": null,
            "align_items": null,
            "align_self": null,
            "border": null,
            "bottom": null,
            "display": null,
            "flex": null,
            "flex_flow": null,
            "grid_area": null,
            "grid_auto_columns": null,
            "grid_auto_flow": null,
            "grid_auto_rows": null,
            "grid_column": null,
            "grid_gap": null,
            "grid_row": null,
            "grid_template_areas": null,
            "grid_template_columns": null,
            "grid_template_rows": null,
            "height": null,
            "justify_content": null,
            "justify_items": null,
            "left": null,
            "margin": null,
            "max_height": null,
            "max_width": null,
            "min_height": null,
            "min_width": null,
            "object_fit": null,
            "object_position": null,
            "order": null,
            "overflow": null,
            "overflow_x": null,
            "overflow_y": null,
            "padding": null,
            "right": null,
            "top": null,
            "visibility": null,
            "width": null
          }
        },
        "57049b63e5304659b28ff904683ca249": {
          "model_module": "@jupyter-widgets/controls",
          "model_name": "DescriptionStyleModel",
          "model_module_version": "1.5.0",
          "state": {
            "_model_module": "@jupyter-widgets/controls",
            "_model_module_version": "1.5.0",
            "_model_name": "DescriptionStyleModel",
            "_view_count": null,
            "_view_module": "@jupyter-widgets/base",
            "_view_module_version": "1.2.0",
            "_view_name": "StyleView",
            "description_width": ""
          }
        },
        "3aa4b0ca4dff4fb89e8c5f7245e5136e": {
          "model_module": "@jupyter-widgets/base",
          "model_name": "LayoutModel",
          "model_module_version": "1.2.0",
          "state": {
            "_model_module": "@jupyter-widgets/base",
            "_model_module_version": "1.2.0",
            "_model_name": "LayoutModel",
            "_view_count": null,
            "_view_module": "@jupyter-widgets/base",
            "_view_module_version": "1.2.0",
            "_view_name": "LayoutView",
            "align_content": null,
            "align_items": null,
            "align_self": null,
            "border": null,
            "bottom": null,
            "display": null,
            "flex": null,
            "flex_flow": null,
            "grid_area": null,
            "grid_auto_columns": null,
            "grid_auto_flow": null,
            "grid_auto_rows": null,
            "grid_column": null,
            "grid_gap": null,
            "grid_row": null,
            "grid_template_areas": null,
            "grid_template_columns": null,
            "grid_template_rows": null,
            "height": null,
            "justify_content": null,
            "justify_items": null,
            "left": null,
            "margin": null,
            "max_height": null,
            "max_width": null,
            "min_height": null,
            "min_width": null,
            "object_fit": null,
            "object_position": null,
            "order": null,
            "overflow": null,
            "overflow_x": null,
            "overflow_y": null,
            "padding": null,
            "right": null,
            "top": null,
            "visibility": null,
            "width": null
          }
        },
        "afdbcc6b84f140fab81e70f51070d034": {
          "model_module": "@jupyter-widgets/controls",
          "model_name": "ProgressStyleModel",
          "model_module_version": "1.5.0",
          "state": {
            "_model_module": "@jupyter-widgets/controls",
            "_model_module_version": "1.5.0",
            "_model_name": "ProgressStyleModel",
            "_view_count": null,
            "_view_module": "@jupyter-widgets/base",
            "_view_module_version": "1.2.0",
            "_view_name": "StyleView",
            "bar_color": null,
            "description_width": ""
          }
        },
        "b58e3824dc714be791b552483ba02067": {
          "model_module": "@jupyter-widgets/base",
          "model_name": "LayoutModel",
          "model_module_version": "1.2.0",
          "state": {
            "_model_module": "@jupyter-widgets/base",
            "_model_module_version": "1.2.0",
            "_model_name": "LayoutModel",
            "_view_count": null,
            "_view_module": "@jupyter-widgets/base",
            "_view_module_version": "1.2.0",
            "_view_name": "LayoutView",
            "align_content": null,
            "align_items": null,
            "align_self": null,
            "border": null,
            "bottom": null,
            "display": null,
            "flex": null,
            "flex_flow": null,
            "grid_area": null,
            "grid_auto_columns": null,
            "grid_auto_flow": null,
            "grid_auto_rows": null,
            "grid_column": null,
            "grid_gap": null,
            "grid_row": null,
            "grid_template_areas": null,
            "grid_template_columns": null,
            "grid_template_rows": null,
            "height": null,
            "justify_content": null,
            "justify_items": null,
            "left": null,
            "margin": null,
            "max_height": null,
            "max_width": null,
            "min_height": null,
            "min_width": null,
            "object_fit": null,
            "object_position": null,
            "order": null,
            "overflow": null,
            "overflow_x": null,
            "overflow_y": null,
            "padding": null,
            "right": null,
            "top": null,
            "visibility": null,
            "width": null
          }
        },
        "d2b0fa30db3d401fb38c8a16d5ed905d": {
          "model_module": "@jupyter-widgets/controls",
          "model_name": "DescriptionStyleModel",
          "model_module_version": "1.5.0",
          "state": {
            "_model_module": "@jupyter-widgets/controls",
            "_model_module_version": "1.5.0",
            "_model_name": "DescriptionStyleModel",
            "_view_count": null,
            "_view_module": "@jupyter-widgets/base",
            "_view_module_version": "1.2.0",
            "_view_name": "StyleView",
            "description_width": ""
          }
        },
        "824967d512d742f386ef4425868cfc6e": {
          "model_module": "@jupyter-widgets/controls",
          "model_name": "HBoxModel",
          "model_module_version": "1.5.0",
          "state": {
            "_dom_classes": [],
            "_model_module": "@jupyter-widgets/controls",
            "_model_module_version": "1.5.0",
            "_model_name": "HBoxModel",
            "_view_count": null,
            "_view_module": "@jupyter-widgets/controls",
            "_view_module_version": "1.5.0",
            "_view_name": "HBoxView",
            "box_style": "",
            "children": [
              "IPY_MODEL_c7623e7996124cfd9c320f918fe1e0d6",
              "IPY_MODEL_6b65c80a37174e1491dd538a41a0bd61",
              "IPY_MODEL_6e36e319908a4268a7a7380641ef862f"
            ],
            "layout": "IPY_MODEL_83b537033a9b4912842fac179ac8ace8"
          }
        },
        "c7623e7996124cfd9c320f918fe1e0d6": {
          "model_module": "@jupyter-widgets/controls",
          "model_name": "HTMLModel",
          "model_module_version": "1.5.0",
          "state": {
            "_dom_classes": [],
            "_model_module": "@jupyter-widgets/controls",
            "_model_module_version": "1.5.0",
            "_model_name": "HTMLModel",
            "_view_count": null,
            "_view_module": "@jupyter-widgets/controls",
            "_view_module_version": "1.5.0",
            "_view_name": "HTMLView",
            "description": "",
            "description_tooltip": null,
            "layout": "IPY_MODEL_40bd547d40fc4ae79c822bcd2c1a3c1b",
            "placeholder": "​",
            "style": "IPY_MODEL_5143d8ce5ba54ef29cbe564abb517a61",
            "value": "tokenizer.json: 100%"
          }
        },
        "6b65c80a37174e1491dd538a41a0bd61": {
          "model_module": "@jupyter-widgets/controls",
          "model_name": "FloatProgressModel",
          "model_module_version": "1.5.0",
          "state": {
            "_dom_classes": [],
            "_model_module": "@jupyter-widgets/controls",
            "_model_module_version": "1.5.0",
            "_model_name": "FloatProgressModel",
            "_view_count": null,
            "_view_module": "@jupyter-widgets/controls",
            "_view_module_version": "1.5.0",
            "_view_name": "ProgressView",
            "bar_style": "success",
            "description": "",
            "description_tooltip": null,
            "layout": "IPY_MODEL_9e15f7a1618e4065be65afc2353a0803",
            "max": 466062,
            "min": 0,
            "orientation": "horizontal",
            "style": "IPY_MODEL_6d7be69fbedf41139d1cbdde5b8addf7",
            "value": 466062
          }
        },
        "6e36e319908a4268a7a7380641ef862f": {
          "model_module": "@jupyter-widgets/controls",
          "model_name": "HTMLModel",
          "model_module_version": "1.5.0",
          "state": {
            "_dom_classes": [],
            "_model_module": "@jupyter-widgets/controls",
            "_model_module_version": "1.5.0",
            "_model_name": "HTMLModel",
            "_view_count": null,
            "_view_module": "@jupyter-widgets/controls",
            "_view_module_version": "1.5.0",
            "_view_name": "HTMLView",
            "description": "",
            "description_tooltip": null,
            "layout": "IPY_MODEL_87cbdfec33574b99a64664392bdcb590",
            "placeholder": "​",
            "style": "IPY_MODEL_e975dbe9d7e24028813c8eefe57d7f78",
            "value": " 466k/466k [00:00&lt;00:00, 5.54MB/s]"
          }
        },
        "83b537033a9b4912842fac179ac8ace8": {
          "model_module": "@jupyter-widgets/base",
          "model_name": "LayoutModel",
          "model_module_version": "1.2.0",
          "state": {
            "_model_module": "@jupyter-widgets/base",
            "_model_module_version": "1.2.0",
            "_model_name": "LayoutModel",
            "_view_count": null,
            "_view_module": "@jupyter-widgets/base",
            "_view_module_version": "1.2.0",
            "_view_name": "LayoutView",
            "align_content": null,
            "align_items": null,
            "align_self": null,
            "border": null,
            "bottom": null,
            "display": null,
            "flex": null,
            "flex_flow": null,
            "grid_area": null,
            "grid_auto_columns": null,
            "grid_auto_flow": null,
            "grid_auto_rows": null,
            "grid_column": null,
            "grid_gap": null,
            "grid_row": null,
            "grid_template_areas": null,
            "grid_template_columns": null,
            "grid_template_rows": null,
            "height": null,
            "justify_content": null,
            "justify_items": null,
            "left": null,
            "margin": null,
            "max_height": null,
            "max_width": null,
            "min_height": null,
            "min_width": null,
            "object_fit": null,
            "object_position": null,
            "order": null,
            "overflow": null,
            "overflow_x": null,
            "overflow_y": null,
            "padding": null,
            "right": null,
            "top": null,
            "visibility": null,
            "width": null
          }
        },
        "40bd547d40fc4ae79c822bcd2c1a3c1b": {
          "model_module": "@jupyter-widgets/base",
          "model_name": "LayoutModel",
          "model_module_version": "1.2.0",
          "state": {
            "_model_module": "@jupyter-widgets/base",
            "_model_module_version": "1.2.0",
            "_model_name": "LayoutModel",
            "_view_count": null,
            "_view_module": "@jupyter-widgets/base",
            "_view_module_version": "1.2.0",
            "_view_name": "LayoutView",
            "align_content": null,
            "align_items": null,
            "align_self": null,
            "border": null,
            "bottom": null,
            "display": null,
            "flex": null,
            "flex_flow": null,
            "grid_area": null,
            "grid_auto_columns": null,
            "grid_auto_flow": null,
            "grid_auto_rows": null,
            "grid_column": null,
            "grid_gap": null,
            "grid_row": null,
            "grid_template_areas": null,
            "grid_template_columns": null,
            "grid_template_rows": null,
            "height": null,
            "justify_content": null,
            "justify_items": null,
            "left": null,
            "margin": null,
            "max_height": null,
            "max_width": null,
            "min_height": null,
            "min_width": null,
            "object_fit": null,
            "object_position": null,
            "order": null,
            "overflow": null,
            "overflow_x": null,
            "overflow_y": null,
            "padding": null,
            "right": null,
            "top": null,
            "visibility": null,
            "width": null
          }
        },
        "5143d8ce5ba54ef29cbe564abb517a61": {
          "model_module": "@jupyter-widgets/controls",
          "model_name": "DescriptionStyleModel",
          "model_module_version": "1.5.0",
          "state": {
            "_model_module": "@jupyter-widgets/controls",
            "_model_module_version": "1.5.0",
            "_model_name": "DescriptionStyleModel",
            "_view_count": null,
            "_view_module": "@jupyter-widgets/base",
            "_view_module_version": "1.2.0",
            "_view_name": "StyleView",
            "description_width": ""
          }
        },
        "9e15f7a1618e4065be65afc2353a0803": {
          "model_module": "@jupyter-widgets/base",
          "model_name": "LayoutModel",
          "model_module_version": "1.2.0",
          "state": {
            "_model_module": "@jupyter-widgets/base",
            "_model_module_version": "1.2.0",
            "_model_name": "LayoutModel",
            "_view_count": null,
            "_view_module": "@jupyter-widgets/base",
            "_view_module_version": "1.2.0",
            "_view_name": "LayoutView",
            "align_content": null,
            "align_items": null,
            "align_self": null,
            "border": null,
            "bottom": null,
            "display": null,
            "flex": null,
            "flex_flow": null,
            "grid_area": null,
            "grid_auto_columns": null,
            "grid_auto_flow": null,
            "grid_auto_rows": null,
            "grid_column": null,
            "grid_gap": null,
            "grid_row": null,
            "grid_template_areas": null,
            "grid_template_columns": null,
            "grid_template_rows": null,
            "height": null,
            "justify_content": null,
            "justify_items": null,
            "left": null,
            "margin": null,
            "max_height": null,
            "max_width": null,
            "min_height": null,
            "min_width": null,
            "object_fit": null,
            "object_position": null,
            "order": null,
            "overflow": null,
            "overflow_x": null,
            "overflow_y": null,
            "padding": null,
            "right": null,
            "top": null,
            "visibility": null,
            "width": null
          }
        },
        "6d7be69fbedf41139d1cbdde5b8addf7": {
          "model_module": "@jupyter-widgets/controls",
          "model_name": "ProgressStyleModel",
          "model_module_version": "1.5.0",
          "state": {
            "_model_module": "@jupyter-widgets/controls",
            "_model_module_version": "1.5.0",
            "_model_name": "ProgressStyleModel",
            "_view_count": null,
            "_view_module": "@jupyter-widgets/base",
            "_view_module_version": "1.2.0",
            "_view_name": "StyleView",
            "bar_color": null,
            "description_width": ""
          }
        },
        "87cbdfec33574b99a64664392bdcb590": {
          "model_module": "@jupyter-widgets/base",
          "model_name": "LayoutModel",
          "model_module_version": "1.2.0",
          "state": {
            "_model_module": "@jupyter-widgets/base",
            "_model_module_version": "1.2.0",
            "_model_name": "LayoutModel",
            "_view_count": null,
            "_view_module": "@jupyter-widgets/base",
            "_view_module_version": "1.2.0",
            "_view_name": "LayoutView",
            "align_content": null,
            "align_items": null,
            "align_self": null,
            "border": null,
            "bottom": null,
            "display": null,
            "flex": null,
            "flex_flow": null,
            "grid_area": null,
            "grid_auto_columns": null,
            "grid_auto_flow": null,
            "grid_auto_rows": null,
            "grid_column": null,
            "grid_gap": null,
            "grid_row": null,
            "grid_template_areas": null,
            "grid_template_columns": null,
            "grid_template_rows": null,
            "height": null,
            "justify_content": null,
            "justify_items": null,
            "left": null,
            "margin": null,
            "max_height": null,
            "max_width": null,
            "min_height": null,
            "min_width": null,
            "object_fit": null,
            "object_position": null,
            "order": null,
            "overflow": null,
            "overflow_x": null,
            "overflow_y": null,
            "padding": null,
            "right": null,
            "top": null,
            "visibility": null,
            "width": null
          }
        },
        "e975dbe9d7e24028813c8eefe57d7f78": {
          "model_module": "@jupyter-widgets/controls",
          "model_name": "DescriptionStyleModel",
          "model_module_version": "1.5.0",
          "state": {
            "_model_module": "@jupyter-widgets/controls",
            "_model_module_version": "1.5.0",
            "_model_name": "DescriptionStyleModel",
            "_view_count": null,
            "_view_module": "@jupyter-widgets/base",
            "_view_module_version": "1.2.0",
            "_view_name": "StyleView",
            "description_width": ""
          }
        },
        "5c0fe0ec592744f5b7f72a6fdaa3a88f": {
          "model_module": "@jupyter-widgets/controls",
          "model_name": "HBoxModel",
          "model_module_version": "1.5.0",
          "state": {
            "_dom_classes": [],
            "_model_module": "@jupyter-widgets/controls",
            "_model_module_version": "1.5.0",
            "_model_name": "HBoxModel",
            "_view_count": null,
            "_view_module": "@jupyter-widgets/controls",
            "_view_module_version": "1.5.0",
            "_view_name": "HBoxView",
            "box_style": "",
            "children": [
              "IPY_MODEL_17cea6a54b7a4c1e9f9a8e523fa2afaa",
              "IPY_MODEL_0888d635c1b64e3fb03cfdf2e04086c8",
              "IPY_MODEL_88c980ef17dd4c2882a6f3b0a7448f1e"
            ],
            "layout": "IPY_MODEL_c1bf901c752b485f8a1aafd83dd3d527"
          }
        },
        "17cea6a54b7a4c1e9f9a8e523fa2afaa": {
          "model_module": "@jupyter-widgets/controls",
          "model_name": "HTMLModel",
          "model_module_version": "1.5.0",
          "state": {
            "_dom_classes": [],
            "_model_module": "@jupyter-widgets/controls",
            "_model_module_version": "1.5.0",
            "_model_name": "HTMLModel",
            "_view_count": null,
            "_view_module": "@jupyter-widgets/controls",
            "_view_module_version": "1.5.0",
            "_view_name": "HTMLView",
            "description": "",
            "description_tooltip": null,
            "layout": "IPY_MODEL_437810ab6f7c4334b72fcaaec6b3d2ad",
            "placeholder": "​",
            "style": "IPY_MODEL_d4fc33935aed47dbb5a96ddb7ea2aaaf",
            "value": "config.json: 100%"
          }
        },
        "0888d635c1b64e3fb03cfdf2e04086c8": {
          "model_module": "@jupyter-widgets/controls",
          "model_name": "FloatProgressModel",
          "model_module_version": "1.5.0",
          "state": {
            "_dom_classes": [],
            "_model_module": "@jupyter-widgets/controls",
            "_model_module_version": "1.5.0",
            "_model_name": "FloatProgressModel",
            "_view_count": null,
            "_view_module": "@jupyter-widgets/controls",
            "_view_module_version": "1.5.0",
            "_view_name": "ProgressView",
            "bar_style": "success",
            "description": "",
            "description_tooltip": null,
            "layout": "IPY_MODEL_c827aff1eace43ee8bb69ee111e60882",
            "max": 570,
            "min": 0,
            "orientation": "horizontal",
            "style": "IPY_MODEL_e14af0db9bb24aa2a0f611d972f0ead4",
            "value": 570
          }
        },
        "88c980ef17dd4c2882a6f3b0a7448f1e": {
          "model_module": "@jupyter-widgets/controls",
          "model_name": "HTMLModel",
          "model_module_version": "1.5.0",
          "state": {
            "_dom_classes": [],
            "_model_module": "@jupyter-widgets/controls",
            "_model_module_version": "1.5.0",
            "_model_name": "HTMLModel",
            "_view_count": null,
            "_view_module": "@jupyter-widgets/controls",
            "_view_module_version": "1.5.0",
            "_view_name": "HTMLView",
            "description": "",
            "description_tooltip": null,
            "layout": "IPY_MODEL_f290cfb206624db684c94b4d6214fb52",
            "placeholder": "​",
            "style": "IPY_MODEL_fb438e90bdc94da2bc41a3cba44bf4d5",
            "value": " 570/570 [00:00&lt;00:00, 33.6kB/s]"
          }
        },
        "c1bf901c752b485f8a1aafd83dd3d527": {
          "model_module": "@jupyter-widgets/base",
          "model_name": "LayoutModel",
          "model_module_version": "1.2.0",
          "state": {
            "_model_module": "@jupyter-widgets/base",
            "_model_module_version": "1.2.0",
            "_model_name": "LayoutModel",
            "_view_count": null,
            "_view_module": "@jupyter-widgets/base",
            "_view_module_version": "1.2.0",
            "_view_name": "LayoutView",
            "align_content": null,
            "align_items": null,
            "align_self": null,
            "border": null,
            "bottom": null,
            "display": null,
            "flex": null,
            "flex_flow": null,
            "grid_area": null,
            "grid_auto_columns": null,
            "grid_auto_flow": null,
            "grid_auto_rows": null,
            "grid_column": null,
            "grid_gap": null,
            "grid_row": null,
            "grid_template_areas": null,
            "grid_template_columns": null,
            "grid_template_rows": null,
            "height": null,
            "justify_content": null,
            "justify_items": null,
            "left": null,
            "margin": null,
            "max_height": null,
            "max_width": null,
            "min_height": null,
            "min_width": null,
            "object_fit": null,
            "object_position": null,
            "order": null,
            "overflow": null,
            "overflow_x": null,
            "overflow_y": null,
            "padding": null,
            "right": null,
            "top": null,
            "visibility": null,
            "width": null
          }
        },
        "437810ab6f7c4334b72fcaaec6b3d2ad": {
          "model_module": "@jupyter-widgets/base",
          "model_name": "LayoutModel",
          "model_module_version": "1.2.0",
          "state": {
            "_model_module": "@jupyter-widgets/base",
            "_model_module_version": "1.2.0",
            "_model_name": "LayoutModel",
            "_view_count": null,
            "_view_module": "@jupyter-widgets/base",
            "_view_module_version": "1.2.0",
            "_view_name": "LayoutView",
            "align_content": null,
            "align_items": null,
            "align_self": null,
            "border": null,
            "bottom": null,
            "display": null,
            "flex": null,
            "flex_flow": null,
            "grid_area": null,
            "grid_auto_columns": null,
            "grid_auto_flow": null,
            "grid_auto_rows": null,
            "grid_column": null,
            "grid_gap": null,
            "grid_row": null,
            "grid_template_areas": null,
            "grid_template_columns": null,
            "grid_template_rows": null,
            "height": null,
            "justify_content": null,
            "justify_items": null,
            "left": null,
            "margin": null,
            "max_height": null,
            "max_width": null,
            "min_height": null,
            "min_width": null,
            "object_fit": null,
            "object_position": null,
            "order": null,
            "overflow": null,
            "overflow_x": null,
            "overflow_y": null,
            "padding": null,
            "right": null,
            "top": null,
            "visibility": null,
            "width": null
          }
        },
        "d4fc33935aed47dbb5a96ddb7ea2aaaf": {
          "model_module": "@jupyter-widgets/controls",
          "model_name": "DescriptionStyleModel",
          "model_module_version": "1.5.0",
          "state": {
            "_model_module": "@jupyter-widgets/controls",
            "_model_module_version": "1.5.0",
            "_model_name": "DescriptionStyleModel",
            "_view_count": null,
            "_view_module": "@jupyter-widgets/base",
            "_view_module_version": "1.2.0",
            "_view_name": "StyleView",
            "description_width": ""
          }
        },
        "c827aff1eace43ee8bb69ee111e60882": {
          "model_module": "@jupyter-widgets/base",
          "model_name": "LayoutModel",
          "model_module_version": "1.2.0",
          "state": {
            "_model_module": "@jupyter-widgets/base",
            "_model_module_version": "1.2.0",
            "_model_name": "LayoutModel",
            "_view_count": null,
            "_view_module": "@jupyter-widgets/base",
            "_view_module_version": "1.2.0",
            "_view_name": "LayoutView",
            "align_content": null,
            "align_items": null,
            "align_self": null,
            "border": null,
            "bottom": null,
            "display": null,
            "flex": null,
            "flex_flow": null,
            "grid_area": null,
            "grid_auto_columns": null,
            "grid_auto_flow": null,
            "grid_auto_rows": null,
            "grid_column": null,
            "grid_gap": null,
            "grid_row": null,
            "grid_template_areas": null,
            "grid_template_columns": null,
            "grid_template_rows": null,
            "height": null,
            "justify_content": null,
            "justify_items": null,
            "left": null,
            "margin": null,
            "max_height": null,
            "max_width": null,
            "min_height": null,
            "min_width": null,
            "object_fit": null,
            "object_position": null,
            "order": null,
            "overflow": null,
            "overflow_x": null,
            "overflow_y": null,
            "padding": null,
            "right": null,
            "top": null,
            "visibility": null,
            "width": null
          }
        },
        "e14af0db9bb24aa2a0f611d972f0ead4": {
          "model_module": "@jupyter-widgets/controls",
          "model_name": "ProgressStyleModel",
          "model_module_version": "1.5.0",
          "state": {
            "_model_module": "@jupyter-widgets/controls",
            "_model_module_version": "1.5.0",
            "_model_name": "ProgressStyleModel",
            "_view_count": null,
            "_view_module": "@jupyter-widgets/base",
            "_view_module_version": "1.2.0",
            "_view_name": "StyleView",
            "bar_color": null,
            "description_width": ""
          }
        },
        "f290cfb206624db684c94b4d6214fb52": {
          "model_module": "@jupyter-widgets/base",
          "model_name": "LayoutModel",
          "model_module_version": "1.2.0",
          "state": {
            "_model_module": "@jupyter-widgets/base",
            "_model_module_version": "1.2.0",
            "_model_name": "LayoutModel",
            "_view_count": null,
            "_view_module": "@jupyter-widgets/base",
            "_view_module_version": "1.2.0",
            "_view_name": "LayoutView",
            "align_content": null,
            "align_items": null,
            "align_self": null,
            "border": null,
            "bottom": null,
            "display": null,
            "flex": null,
            "flex_flow": null,
            "grid_area": null,
            "grid_auto_columns": null,
            "grid_auto_flow": null,
            "grid_auto_rows": null,
            "grid_column": null,
            "grid_gap": null,
            "grid_row": null,
            "grid_template_areas": null,
            "grid_template_columns": null,
            "grid_template_rows": null,
            "height": null,
            "justify_content": null,
            "justify_items": null,
            "left": null,
            "margin": null,
            "max_height": null,
            "max_width": null,
            "min_height": null,
            "min_width": null,
            "object_fit": null,
            "object_position": null,
            "order": null,
            "overflow": null,
            "overflow_x": null,
            "overflow_y": null,
            "padding": null,
            "right": null,
            "top": null,
            "visibility": null,
            "width": null
          }
        },
        "fb438e90bdc94da2bc41a3cba44bf4d5": {
          "model_module": "@jupyter-widgets/controls",
          "model_name": "DescriptionStyleModel",
          "model_module_version": "1.5.0",
          "state": {
            "_model_module": "@jupyter-widgets/controls",
            "_model_module_version": "1.5.0",
            "_model_name": "DescriptionStyleModel",
            "_view_count": null,
            "_view_module": "@jupyter-widgets/base",
            "_view_module_version": "1.2.0",
            "_view_name": "StyleView",
            "description_width": ""
          }
        },
        "856cd7c7ab5f468cabfc80a5d3530592": {
          "model_module": "@jupyter-widgets/controls",
          "model_name": "HBoxModel",
          "model_module_version": "1.5.0",
          "state": {
            "_dom_classes": [],
            "_model_module": "@jupyter-widgets/controls",
            "_model_module_version": "1.5.0",
            "_model_name": "HBoxModel",
            "_view_count": null,
            "_view_module": "@jupyter-widgets/controls",
            "_view_module_version": "1.5.0",
            "_view_name": "HBoxView",
            "box_style": "",
            "children": [
              "IPY_MODEL_b768beb9bf774ee087ce74591120a2c9",
              "IPY_MODEL_e26832c5122e4732bf4cb3b2c114a3fa",
              "IPY_MODEL_1ed8bbfa6dd04d37b792b59b053a90de"
            ],
            "layout": "IPY_MODEL_ee812f886f4d43f0b818d3112d7a4cf8"
          }
        },
        "b768beb9bf774ee087ce74591120a2c9": {
          "model_module": "@jupyter-widgets/controls",
          "model_name": "HTMLModel",
          "model_module_version": "1.5.0",
          "state": {
            "_dom_classes": [],
            "_model_module": "@jupyter-widgets/controls",
            "_model_module_version": "1.5.0",
            "_model_name": "HTMLModel",
            "_view_count": null,
            "_view_module": "@jupyter-widgets/controls",
            "_view_module_version": "1.5.0",
            "_view_name": "HTMLView",
            "description": "",
            "description_tooltip": null,
            "layout": "IPY_MODEL_66d6d5082fd54818afea3bb39ad22ddd",
            "placeholder": "​",
            "style": "IPY_MODEL_4723eccf89d34ef0bbb9ab7f0904f441",
            "value": "model.safetensors: 100%"
          }
        },
        "e26832c5122e4732bf4cb3b2c114a3fa": {
          "model_module": "@jupyter-widgets/controls",
          "model_name": "FloatProgressModel",
          "model_module_version": "1.5.0",
          "state": {
            "_dom_classes": [],
            "_model_module": "@jupyter-widgets/controls",
            "_model_module_version": "1.5.0",
            "_model_name": "FloatProgressModel",
            "_view_count": null,
            "_view_module": "@jupyter-widgets/controls",
            "_view_module_version": "1.5.0",
            "_view_name": "ProgressView",
            "bar_style": "success",
            "description": "",
            "description_tooltip": null,
            "layout": "IPY_MODEL_fc24d18be917475284eb27d250df0064",
            "max": 440449768,
            "min": 0,
            "orientation": "horizontal",
            "style": "IPY_MODEL_25d03337a8ad4f61b503f4f73927a6e3",
            "value": 440449768
          }
        },
        "1ed8bbfa6dd04d37b792b59b053a90de": {
          "model_module": "@jupyter-widgets/controls",
          "model_name": "HTMLModel",
          "model_module_version": "1.5.0",
          "state": {
            "_dom_classes": [],
            "_model_module": "@jupyter-widgets/controls",
            "_model_module_version": "1.5.0",
            "_model_name": "HTMLModel",
            "_view_count": null,
            "_view_module": "@jupyter-widgets/controls",
            "_view_module_version": "1.5.0",
            "_view_name": "HTMLView",
            "description": "",
            "description_tooltip": null,
            "layout": "IPY_MODEL_734e1bf65d2d461294505c851d90d6f5",
            "placeholder": "​",
            "style": "IPY_MODEL_c9cc2ebd5178407088c5474e6260a412",
            "value": " 440M/440M [00:05&lt;00:00, 88.7MB/s]"
          }
        },
        "ee812f886f4d43f0b818d3112d7a4cf8": {
          "model_module": "@jupyter-widgets/base",
          "model_name": "LayoutModel",
          "model_module_version": "1.2.0",
          "state": {
            "_model_module": "@jupyter-widgets/base",
            "_model_module_version": "1.2.0",
            "_model_name": "LayoutModel",
            "_view_count": null,
            "_view_module": "@jupyter-widgets/base",
            "_view_module_version": "1.2.0",
            "_view_name": "LayoutView",
            "align_content": null,
            "align_items": null,
            "align_self": null,
            "border": null,
            "bottom": null,
            "display": null,
            "flex": null,
            "flex_flow": null,
            "grid_area": null,
            "grid_auto_columns": null,
            "grid_auto_flow": null,
            "grid_auto_rows": null,
            "grid_column": null,
            "grid_gap": null,
            "grid_row": null,
            "grid_template_areas": null,
            "grid_template_columns": null,
            "grid_template_rows": null,
            "height": null,
            "justify_content": null,
            "justify_items": null,
            "left": null,
            "margin": null,
            "max_height": null,
            "max_width": null,
            "min_height": null,
            "min_width": null,
            "object_fit": null,
            "object_position": null,
            "order": null,
            "overflow": null,
            "overflow_x": null,
            "overflow_y": null,
            "padding": null,
            "right": null,
            "top": null,
            "visibility": null,
            "width": null
          }
        },
        "66d6d5082fd54818afea3bb39ad22ddd": {
          "model_module": "@jupyter-widgets/base",
          "model_name": "LayoutModel",
          "model_module_version": "1.2.0",
          "state": {
            "_model_module": "@jupyter-widgets/base",
            "_model_module_version": "1.2.0",
            "_model_name": "LayoutModel",
            "_view_count": null,
            "_view_module": "@jupyter-widgets/base",
            "_view_module_version": "1.2.0",
            "_view_name": "LayoutView",
            "align_content": null,
            "align_items": null,
            "align_self": null,
            "border": null,
            "bottom": null,
            "display": null,
            "flex": null,
            "flex_flow": null,
            "grid_area": null,
            "grid_auto_columns": null,
            "grid_auto_flow": null,
            "grid_auto_rows": null,
            "grid_column": null,
            "grid_gap": null,
            "grid_row": null,
            "grid_template_areas": null,
            "grid_template_columns": null,
            "grid_template_rows": null,
            "height": null,
            "justify_content": null,
            "justify_items": null,
            "left": null,
            "margin": null,
            "max_height": null,
            "max_width": null,
            "min_height": null,
            "min_width": null,
            "object_fit": null,
            "object_position": null,
            "order": null,
            "overflow": null,
            "overflow_x": null,
            "overflow_y": null,
            "padding": null,
            "right": null,
            "top": null,
            "visibility": null,
            "width": null
          }
        },
        "4723eccf89d34ef0bbb9ab7f0904f441": {
          "model_module": "@jupyter-widgets/controls",
          "model_name": "DescriptionStyleModel",
          "model_module_version": "1.5.0",
          "state": {
            "_model_module": "@jupyter-widgets/controls",
            "_model_module_version": "1.5.0",
            "_model_name": "DescriptionStyleModel",
            "_view_count": null,
            "_view_module": "@jupyter-widgets/base",
            "_view_module_version": "1.2.0",
            "_view_name": "StyleView",
            "description_width": ""
          }
        },
        "fc24d18be917475284eb27d250df0064": {
          "model_module": "@jupyter-widgets/base",
          "model_name": "LayoutModel",
          "model_module_version": "1.2.0",
          "state": {
            "_model_module": "@jupyter-widgets/base",
            "_model_module_version": "1.2.0",
            "_model_name": "LayoutModel",
            "_view_count": null,
            "_view_module": "@jupyter-widgets/base",
            "_view_module_version": "1.2.0",
            "_view_name": "LayoutView",
            "align_content": null,
            "align_items": null,
            "align_self": null,
            "border": null,
            "bottom": null,
            "display": null,
            "flex": null,
            "flex_flow": null,
            "grid_area": null,
            "grid_auto_columns": null,
            "grid_auto_flow": null,
            "grid_auto_rows": null,
            "grid_column": null,
            "grid_gap": null,
            "grid_row": null,
            "grid_template_areas": null,
            "grid_template_columns": null,
            "grid_template_rows": null,
            "height": null,
            "justify_content": null,
            "justify_items": null,
            "left": null,
            "margin": null,
            "max_height": null,
            "max_width": null,
            "min_height": null,
            "min_width": null,
            "object_fit": null,
            "object_position": null,
            "order": null,
            "overflow": null,
            "overflow_x": null,
            "overflow_y": null,
            "padding": null,
            "right": null,
            "top": null,
            "visibility": null,
            "width": null
          }
        },
        "25d03337a8ad4f61b503f4f73927a6e3": {
          "model_module": "@jupyter-widgets/controls",
          "model_name": "ProgressStyleModel",
          "model_module_version": "1.5.0",
          "state": {
            "_model_module": "@jupyter-widgets/controls",
            "_model_module_version": "1.5.0",
            "_model_name": "ProgressStyleModel",
            "_view_count": null,
            "_view_module": "@jupyter-widgets/base",
            "_view_module_version": "1.2.0",
            "_view_name": "StyleView",
            "bar_color": null,
            "description_width": ""
          }
        },
        "734e1bf65d2d461294505c851d90d6f5": {
          "model_module": "@jupyter-widgets/base",
          "model_name": "LayoutModel",
          "model_module_version": "1.2.0",
          "state": {
            "_model_module": "@jupyter-widgets/base",
            "_model_module_version": "1.2.0",
            "_model_name": "LayoutModel",
            "_view_count": null,
            "_view_module": "@jupyter-widgets/base",
            "_view_module_version": "1.2.0",
            "_view_name": "LayoutView",
            "align_content": null,
            "align_items": null,
            "align_self": null,
            "border": null,
            "bottom": null,
            "display": null,
            "flex": null,
            "flex_flow": null,
            "grid_area": null,
            "grid_auto_columns": null,
            "grid_auto_flow": null,
            "grid_auto_rows": null,
            "grid_column": null,
            "grid_gap": null,
            "grid_row": null,
            "grid_template_areas": null,
            "grid_template_columns": null,
            "grid_template_rows": null,
            "height": null,
            "justify_content": null,
            "justify_items": null,
            "left": null,
            "margin": null,
            "max_height": null,
            "max_width": null,
            "min_height": null,
            "min_width": null,
            "object_fit": null,
            "object_position": null,
            "order": null,
            "overflow": null,
            "overflow_x": null,
            "overflow_y": null,
            "padding": null,
            "right": null,
            "top": null,
            "visibility": null,
            "width": null
          }
        },
        "c9cc2ebd5178407088c5474e6260a412": {
          "model_module": "@jupyter-widgets/controls",
          "model_name": "DescriptionStyleModel",
          "model_module_version": "1.5.0",
          "state": {
            "_model_module": "@jupyter-widgets/controls",
            "_model_module_version": "1.5.0",
            "_model_name": "DescriptionStyleModel",
            "_view_count": null,
            "_view_module": "@jupyter-widgets/base",
            "_view_module_version": "1.2.0",
            "_view_name": "StyleView",
            "description_width": ""
          }
        }
      }
    }
  },
  "nbformat": 4,
  "nbformat_minor": 0
}